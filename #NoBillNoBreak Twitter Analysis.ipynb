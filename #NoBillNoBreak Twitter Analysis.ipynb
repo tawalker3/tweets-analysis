{
 "cells": [
  {
   "cell_type": "code",
   "execution_count": 27,
   "metadata": {
    "collapsed": true
   },
   "outputs": [],
   "source": [
    "import pandas as pd\n",
    "import numpy as np\n",
    "import matplotlib.pyplot as plt\n",
    "import seaborn as sns\n",
    "import cPickle as pickle\n",
    "import os\n",
    "import nltk\n",
    "import tweepy\n",
    "import time\n",
    "\n",
    "from collections import Counter\n",
    "\n",
    "%matplotlib inline\n",
    "\n",
    "pd.options.display.max_colwidth = 300"
   ]
  },
  {
   "cell_type": "markdown",
   "metadata": {},
   "source": [
    "To obtain the tweets for this analysis, I will use <a href=\"http://www.tweepy.org/\">Tweepy</a>, a Python package that can be used to connect to Twitter's API. Below, I set up the OAuth and access tokens so that I can use Tweepy to connect to the API."
   ]
  },
  {
   "cell_type": "code",
   "execution_count": null,
   "metadata": {
    "collapsed": true
   },
   "outputs": [],
   "source": [
    "auth = tweepy.OAuthHandler(os.environ['CONSUMER_KEY'], os.environ['CONSUMER_SECRET'])\n",
    "auth.set_access_token(os.environ['ACCESS_TOKEN'], os.environ['ACCESS_TOKEN_SECRET'])\n",
    "\n",
    "api = tweepy.API(auth)"
   ]
  },
  {
   "cell_type": "markdown",
   "metadata": {},
   "source": [
    "Now, I want to search Twitter for tweets that contain the hashtag \"#NoBillNoBreak\". I  want the maximum number of tweets returned per page, so I set count to 100. I also limit the language to English, to simplify the analysis. I add 900 as a parameter to the pages method, so this will stop the data collection when 900 pages of tweets have been collected. Lastly, I want to avoid Twitter's rate limit errors, so I add time.sleep(5) to wait 5 seconds before calling the next page (see Twitter's <a href=\"https://dev.twitter.com/rest/public/rate-limits\">Docs</a> for more information)."
   ]
  },
  {
   "cell_type": "code",
   "execution_count": null,
   "metadata": {
    "collapsed": true
   },
   "outputs": [],
   "source": [
    "tweets_list = []\n",
    "\n",
    "for page in tweepy.Cursor(api.search, q=\"#NoBillNoBreak\", count=100, lng=\"en\",\n",
    "                          ).pages(900):\n",
    "    for tweet in page:\n",
    "        tweets_list.append(tweet._json)\n",
    "    time.sleep(5)"
   ]
  },
  {
   "cell_type": "markdown",
   "metadata": {
    "collapsed": false
   },
   "source": [
    "Now, I want to extract the information I want from the tweets in tweets_list, and convert them into a pandas DataFrame."
   ]
  },
  {
   "cell_type": "code",
   "execution_count": 4,
   "metadata": {
    "collapsed": false
   },
   "outputs": [],
   "source": [
    "df = pd.DataFrame()\n",
    "df['id'] = [tweet['id'] for tweet in tweets_list]\n",
    "df['user_name'] = [tweet['user']['name'] for tweet in tweets_list]\n",
    "df['screen_name'] = [tweet['user']['screen_name'] for tweet in tweets_list]\n",
    "df['text'] = [tweet['text'] for tweet in tweets_list]\n",
    "df['retweet_count'] = [tweet['retweet_count'] for tweet in tweets_list]\n",
    "df['created_at'] = [tweet['created_at'] for tweet in tweets_list]"
   ]
  },
  {
   "cell_type": "markdown",
   "metadata": {},
   "source": [
    "Below is a sample of the tweet data."
   ]
  },
  {
   "cell_type": "code",
   "execution_count": 6,
   "metadata": {
    "collapsed": false
   },
   "outputs": [
    {
     "data": {
      "text/html": [
       "<div>\n",
       "<table border=\"1\" class=\"dataframe\">\n",
       "  <thead>\n",
       "    <tr style=\"text-align: right;\">\n",
       "      <th></th>\n",
       "      <th>id</th>\n",
       "      <th>user_name</th>\n",
       "      <th>screen_name</th>\n",
       "      <th>text</th>\n",
       "      <th>retweet_count</th>\n",
       "      <th>created_at</th>\n",
       "    </tr>\n",
       "  </thead>\n",
       "  <tbody>\n",
       "    <tr>\n",
       "      <th>0</th>\n",
       "      <td>746132412019654656</td>\n",
       "      <td>♛ Gaga Bieber Fan ♛</td>\n",
       "      <td>GagaBieberMania</td>\n",
       "      <td>RT @ladygaga: Thank you so much to the women &amp;amp; men on the house floor who are protesting to save American lives ☕️ #NoBillNoBreak https://t…</td>\n",
       "      <td>5489</td>\n",
       "      <td>Fri Jun 24 00:06:44 +0000 2016</td>\n",
       "    </tr>\n",
       "    <tr>\n",
       "      <th>1</th>\n",
       "      <td>746132407439396864</td>\n",
       "      <td>cass</td>\n",
       "      <td>CassieMichaud</td>\n",
       "      <td>RT @WhiteHouse: \"If we’re going to raise our kids in a safer, more loving world, we need to speak up for it.\" —@POTUS #NoBillNoBreak https:…</td>\n",
       "      <td>13582</td>\n",
       "      <td>Fri Jun 24 00:06:43 +0000 2016</td>\n",
       "    </tr>\n",
       "    <tr>\n",
       "      <th>2</th>\n",
       "      <td>746132407204515840</td>\n",
       "      <td>(((Jenn Jacques)))</td>\n",
       "      <td>JennJacques</td>\n",
       "      <td>RT @bob_owens: Oh, Yee of little faith.\\n\\n#NoBillNoBreak https://t.co/PqFImAqsG1</td>\n",
       "      <td>7</td>\n",
       "      <td>Fri Jun 24 00:06:43 +0000 2016</td>\n",
       "    </tr>\n",
       "    <tr>\n",
       "      <th>3</th>\n",
       "      <td>746132399952633856</td>\n",
       "      <td>jokeronparade</td>\n",
       "      <td>jokeronparade</td>\n",
       "      <td>RT @KamVTV: Any comment @tomforemancnn? You just got BUSTED! \\n@CNN @DanScavino #Trump2016 #NoBillNoBreak #Hillary2016 \\n\\n https://t.co/yN1xV…</td>\n",
       "      <td>107</td>\n",
       "      <td>Fri Jun 24 00:06:41 +0000 2016</td>\n",
       "    </tr>\n",
       "    <tr>\n",
       "      <th>4</th>\n",
       "      <td>746132392826576896</td>\n",
       "      <td>Patricia Berry</td>\n",
       "      <td>Pebbles2770</td>\n",
       "      <td>RT @ladygaga: Thank you so much to the women &amp;amp; men on the house floor who are protesting to save American lives ☕️ #NoBillNoBreak https://t…</td>\n",
       "      <td>5489</td>\n",
       "      <td>Fri Jun 24 00:06:39 +0000 2016</td>\n",
       "    </tr>\n",
       "  </tbody>\n",
       "</table>\n",
       "</div>"
      ],
      "text/plain": [
       "                   id            user_name      screen_name  \\\n",
       "0  746132412019654656  ♛ Gaga Bieber Fan ♛  GagaBieberMania   \n",
       "1  746132407439396864                 cass    CassieMichaud   \n",
       "2  746132407204515840   (((Jenn Jacques)))      JennJacques   \n",
       "3  746132399952633856        jokeronparade    jokeronparade   \n",
       "4  746132392826576896       Patricia Berry      Pebbles2770   \n",
       "\n",
       "                                                                                                                                               text  \\\n",
       "0  RT @ladygaga: Thank you so much to the women &amp; men on the house floor who are protesting to save American lives ☕️ #NoBillNoBreak https://t…   \n",
       "1      RT @WhiteHouse: \"If we’re going to raise our kids in a safer, more loving world, we need to speak up for it.\" —@POTUS #NoBillNoBreak https:…   \n",
       "2                                                                 RT @bob_owens: Oh, Yee of little faith.\\n\\n#NoBillNoBreak https://t.co/PqFImAqsG1   \n",
       "3   RT @KamVTV: Any comment @tomforemancnn? You just got BUSTED! \\n@CNN @DanScavino #Trump2016 #NoBillNoBreak #Hillary2016 \\n\\n https://t.co/yN1xV…   \n",
       "4  RT @ladygaga: Thank you so much to the women &amp; men on the house floor who are protesting to save American lives ☕️ #NoBillNoBreak https://t…   \n",
       "\n",
       "   retweet_count                      created_at  \n",
       "0           5489  Fri Jun 24 00:06:44 +0000 2016  \n",
       "1          13582  Fri Jun 24 00:06:43 +0000 2016  \n",
       "2              7  Fri Jun 24 00:06:43 +0000 2016  \n",
       "3            107  Fri Jun 24 00:06:41 +0000 2016  \n",
       "4           5489  Fri Jun 24 00:06:39 +0000 2016  "
      ]
     },
     "execution_count": 6,
     "metadata": {},
     "output_type": "execute_result"
    }
   ],
   "source": [
    "df.head()"
   ]
  },
  {
   "cell_type": "markdown",
   "metadata": {},
   "source": [
    "Now, I will tokenize the text of the tweets. To prevent errors due to special characters (such as emoji), I encode and then decode the text before I split it into tokens. It is also important to make each word lowercase, as well as split on punctuation. If a word is capitalized in some places and all lowercase in others, these would be counted as completely different words when tokenizing - which we would like to avoid. \n",
    "\n",
    "Also, we aren't interested in stopwords (i.e. 'the', 'if', 'and', etc.), because they are very common and don't give us a good idea of the meaning or overall theme of the text. NLTK has a list of english stopwords, so I convert the list to a set called 'stopwords.' Converting the list to a set reduces lookup time significantly when checking whether each token is a stopword.\n",
    "\n",
    "Lastly, I use a counter to get a total count of how often each token appears in the collection of tweets."
   ]
  },
  {
   "cell_type": "code",
   "execution_count": 8,
   "metadata": {
    "collapsed": false
   },
   "outputs": [],
   "source": [
    "tokens = []\n",
    "stopwords = set(nltk.corpus.stopwords.words('english'))\n",
    "for text in df['text'].values:\n",
    "    text = text.encode('utf-8')\n",
    "    text = text.decode('utf-8')\n",
    "    for t in text.split():\n",
    "        token = t.lower().strip(\":,.?!*/\\n=()'\")\n",
    "        if token in stopwords:\n",
    "            continue\n",
    "        else:\n",
    "            tokens.append(token)\n",
    "    \n",
    "tokens_counter = Counter(tokens)"
   ]
  },
  {
   "cell_type": "markdown",
   "metadata": {},
   "source": [
    "Now, I will take a look at the most common tokens in the tweets collection."
   ]
  },
  {
   "cell_type": "code",
   "execution_count": 9,
   "metadata": {
    "collapsed": false
   },
   "outputs": [
    {
     "data": {
      "text/plain": [
       "[(u'rt', 75348),\n",
       " (u'#nobillnobreak', 73603),\n",
       " (u'gun', 16331),\n",
       " (u'&amp;', 12545),\n",
       " (u'house', 10548),\n",
       " (u'@speakerryan', 9695),\n",
       " (u'@repjohnlewis', 9451),\n",
       " (u'sit-in', 8355),\n",
       " (u'trouble', 8273),\n",
       " (u'violence', 7382),\n",
       " (u'vote', 6885),\n",
       " (u'floor', 6846),\n",
       " (u'got', 6377),\n",
       " (u'people', 5603),\n",
       " (u'democrats', 5304),\n",
       " (u'want', 5026),\n",
       " (u'https\\u2026', 4784),\n",
       " (u'congress', 4675),\n",
       " (u'good', 4598),\n",
       " (u'americans', 4492),\n",
       " (u'thank', 4473),\n",
       " (u'#democraticsitin', 4256),\n",
       " (u'support', 4070),\n",
       " (u'#disarmhate', 4057),\n",
       " (u'going', 4054),\n",
       " (u'standing', 4027),\n",
       " (u'hours', 3878),\n",
       " (u'way', 3844),\n",
       " (u'us', 3683),\n",
       " (u'#holdthefloor', 3517),\n",
       " (u'https://t\\u2026', 3456),\n",
       " (u'need', 3425),\n",
       " (u'really', 3246),\n",
       " (u'dems', 3189),\n",
       " (u'@housedemocrats', 3189),\n",
       " (u\"it's\", 3123),\n",
       " (u'like', 3080),\n",
       " (u'control', 3077),\n",
       " (u'#nobill\\u2026', 2956),\n",
       " (u'guns', 2903),\n",
       " (u'victims', 2901),\n",
       " (u'american', 2889),\n",
       " (u'sitting-in', 2855),\n",
       " (u'still', 2852),\n",
       " (u'necessary', 2777),\n",
       " (u'without', 2755),\n",
       " (u'#noflynobuy', 2753),\n",
       " (u'capitol', 2750),\n",
       " (u'action', 2747),\n",
       " (u'https:\\u2026', 2735)]"
      ]
     },
     "execution_count": 9,
     "metadata": {},
     "output_type": "execute_result"
    }
   ],
   "source": [
    "tokens_counter.most_common(50)"
   ]
  },
  {
   "cell_type": "markdown",
   "metadata": {},
   "source": [
    "Some interesting things to note:\n",
    "<ol>\n",
    "    <li>Certain usernames are very common in the tweets.\n",
    "        <ol>\n",
    "            <li>\n",
    "                <b>@speakerryan</b> - Republican Speaker of the House, Paul Ryan\n",
    "            </li>\n",
    "            <li>\n",
    "                <b>@repjohnlewis</b> - Democrat Representative from Georgia, John Lewis\n",
    "            </li>\n",
    "        </ol>\n",
    "    </li>\n",
    "    This makes sense, as these two were at the very center of the events leading to the     #NoBillNoBreak hashtag. John Lewis was one of the main organizers of the Democrats' demonstration. Paul Ryan, as the Speaker of the House, joined other Republicans in not recognizing Rep. James Clyburn when he tried to introduce two gun control bills (<a href='http://www.politico.com/story/2016/06/house-democrats-gun-control-224627'>Politico</a>). He also was accused of turning the House cameras off so that the nation could not see the democrats' demonstration on the House floor. \n",
    "    \n",
    "    <li>Other hashtags that often co-occur with #NoBillNoBreak also show up.\n",
    "        <ol>\n",
    "            <li>\n",
    "                <b>#DemocraticSitIn</b>\n",
    "            </li>\n",
    "            <li>\n",
    "                <b>#DisarmHate</b> - Hashtag in support of the gun control bills.\n",
    "            </li>\n",
    "            <li>\n",
    "                <b>#HoldTheFloor</b> - In reference to the Democrats 'holding the floor' until the legislation they were attempting to introduce was considered for a vote.\n",
    "            </li>\n",
    "        </ol>\n",
    "    </li>\n",
    "    \n",
    "    <li>Some of the top words that show up in the tweets:\n",
    "        <ol>\n",
    "            <li>\n",
    "                <b>gun</b> - Gun control legislation was the main reason for the demonstration.\n",
    "            </li>\n",
    "            <li>\n",
    "                <b>sit-in</b> - A word that is typically associated with civil rights demonstrations; this is interesting since Rep. John Lewis, who organized the demonstration, is considered an icon of the civil rights movement.\n",
    "            </li>\n",
    "            <li>\n",
    "                <b>trouble</b> - I will explore the context of this word below to see how trouble was used in tweets about #NoBillNoBreak.\n",
    "            </li>\n",
    "            <li>\n",
    "                <b>thank</b> - It seems that there could be a lot of support for the Democrats that took part in the demonstration. I will explore the context of this further below, as well.\n",
    "            </li>\n",
    "        </ol>\n",
    "    </li>\n",
    "    \n",
    "    <li>A significant number of the tweets ($\\frac{75348}{89884}\\approx84\\%$) appear to be retweets, because they contain 'RT'.\n",
    "    </li>\n",
    "</ol>"
   ]
  },
  {
   "cell_type": "markdown",
   "metadata": {},
   "source": [
    " "
   ]
  },
  {
   "cell_type": "markdown",
   "metadata": {},
   "source": [
    "I will use NLTK's collocations method to get an idea of what phrases occur most often."
   ]
  },
  {
   "cell_type": "code",
   "execution_count": 11,
   "metadata": {
    "collapsed": false
   },
   "outputs": [
    {
     "name": "stdout",
     "output_type": "stream",
     "text": [
      "gun violence; sitting-in really; families reckless; standing #nobill…;\n",
      "leave without; really standing; without acting; acting victims;\n",
      "trouble necessary; necessary trouble; way good; trouble sitting-in;\n",
      "house floor; got way; gun control; @speakerryan leave; good trouble;\n",
      "reckless gun; &amp; families; victims &amp;\n"
     ]
    }
   ],
   "source": [
    "nltk_text = nltk.Text(tokens) # Convert tweet tokens into an nltk object\n",
    "nltk_text.collocations()"
   ]
  },
  {
   "cell_type": "markdown",
   "metadata": {
    "collapsed": false
   },
   "source": [
    "It looks like 'families' and 'gun' occur next to 'reckless' often. Also, above, we noticed that trouble was a common word. Now, we can see that 'trouble' occurs along with 'necessary' and 'good'; I will further explore that association below. Also, '@speakerryan leave' is an interesting phrase.. I want to look into that, as well."
   ]
  },
  {
   "cell_type": "code",
   "execution_count": 12,
   "metadata": {
    "collapsed": false
   },
   "outputs": [
    {
     "name": "stdout",
     "output_type": "stream",
     "text": [
      "Displaying 25 of 2415 matches:\n",
      "hout acting victims &amp; families reckless gun violence #nobillnobreak https…\n",
      "hout acting victims &amp; families reckless gun violence #nobillnobreak https…\n",
      "hout acting victims &amp; families reckless gun violence #nobillnobreak https…\n",
      "hout acting victims &amp; families reckless gun violence #nobillnobreak https…\n",
      "hout acting victims &amp; families reckless gun violence #nobillnobreak https…\n",
      "hout acting victims &amp; families reckless gun violence #nobillnobreak https…\n",
      "hout acting victims &amp; families reckless gun violence #nobillnobreak https…\n",
      "hout acting victims &amp; families reckless gun violence #nobillnobreak https…\n",
      "hout acting victims &amp; families reckless gun violence #nobillnobreak https…\n",
      "hout acting victims &amp; families reckless gun violence #nobillnobreak https…\n",
      "hout acting victims &amp; families reckless gun violence #nobillnobreak https…\n",
      "hout acting victims &amp; families reckless gun violence #nobillnobreak https…\n",
      "hout acting victims &amp; families reckless gun violence #nobillnobreak https…\n",
      "hout acting victims &amp; families reckless gun violence #nobillnobreak https…\n",
      "hout acting victims &amp; families reckless gun violence #nobillnobreak https…\n",
      "hout acting victims &amp; families reckless gun violence #nobillnobreak https…\n",
      "hout acting victims &amp; families reckless gun violence #nobillnobreak https…\n",
      "hout acting victims &amp; families reckless gun violence #nobillnobreak https…\n",
      "hout acting victims &amp; families reckless gun violence #nobillnobreak https…\n",
      "hout acting victims &amp; families reckless gun violence #nobillnobreak https…\n",
      "hout acting victims &amp; families reckless gun violence #nobillnobreak https…\n",
      "hout acting victims &amp; families reckless gun violence #nobillnobreak https…\n",
      "hout acting victims &amp; families reckless gun violence #nobillnobreak https…\n",
      "hout acting victims &amp; families reckless gun violence #nobillnobreak https…\n",
      "hout acting victims &amp; families reckless gun violence #nobillnobreak https…\n"
     ]
    }
   ],
   "source": [
    "nltk_text.concordance('reckless')"
   ]
  },
  {
   "cell_type": "markdown",
   "metadata": {},
   "source": [
    "Now there is some context around 'families', 'reckless', and 'guns' occurring together often. It appears there is a popular tweet (given that it seems to have been retweeted a number of times) that is discussing the victims and families of reckless gun violence."
   ]
  },
  {
   "cell_type": "code",
   "execution_count": 13,
   "metadata": {
    "collapsed": false
   },
   "outputs": [
    {
     "name": "stdout",
     "output_type": "stream",
     "text": [
      "Displaying 25 of 8273 matches:\n",
      ".co/58oqns0a9r rt @repjohnlewis got trouble got way good trouble necessary trou\n",
      "pjohnlewis got trouble got way good trouble necessary trouble sitting-in really\n",
      "uble got way good trouble necessary trouble sitting-in really standing #nobill…\n",
      "ive yt cnn hillary 843 lol smh dems trouble #nobillnobreak https://t.… rt @mish\n",
      "#holdthenation rt @repjohnlewis got trouble got way good trouble necessary trou\n",
      "pjohnlewis got trouble got way good trouble necessary trouble sitting-in really\n",
      "uble got way good trouble necessary trouble sitting-in really standing #nobill…\n",
      ".co/b9bdzyamtc rt @repjohnlewis got trouble got way good trouble necessary trou\n",
      "pjohnlewis got trouble got way good trouble necessary trouble sitting-in really\n",
      "uble got way good trouble necessary trouble sitting-in really standing #nobill…\n",
      "efive #nobill… rt @repjohnlewis got trouble got way good trouble necessary trou\n",
      "pjohnlewis got trouble got way good trouble necessary trouble sitting-in really\n",
      "uble got way good trouble necessary trouble sitting-in really standing #nobill…\n",
      "lation #nobil… rt @repjohnlewis got trouble got way good trouble necessary trou\n",
      "pjohnlewis got trouble got way good trouble necessary trouble sitting-in really\n",
      "uble got way good trouble necessary trouble sitting-in really standing #nobill…\n",
      " movement htt… rt @repjohnlewis got trouble got way good trouble necessary trou\n",
      "pjohnlewis got trouble got way good trouble necessary trouble sitting-in really\n",
      "uble got way good trouble necessary trouble sitting-in really standing #nobill…\n",
      "t freedom #no… rt @repjohnlewis got trouble got way good trouble necessary trou\n",
      "pjohnlewis got trouble got way good trouble necessary trouble sitting-in really\n",
      "uble got way good trouble necessary trouble sitting-in really standing #nobill…\n",
      "armhate https… rt @repjohnlewis got trouble got way good trouble necessary trou\n",
      "pjohnlewis got trouble got way good trouble necessary trouble sitting-in really\n",
      "uble got way good trouble necessary trouble sitting-in really standing #nobill…\n"
     ]
    }
   ],
   "source": [
    "nltk_text.concordance('trouble')"
   ]
  },
  {
   "cell_type": "markdown",
   "metadata": {},
   "source": [
    "Based on the concordance above, it appears that there was a popular tweet from Rep. John Lewis talking about 'necessary trouble' and 'good trouble.' The text above doesn't seem to be a coherent sentence, but that is because we removed stopwords earlier, so only the \"important\" words are left.\n",
    "\n",
    "'Good trouble' is actually a phrase commonly seen on Rep. John Lewis's Twitter profile. \n",
    "An example:\n",
    "<blockquote class=\"twitter-tweet\" data-cards=\"hidden\" data-lang=\"en\"><p lang=\"en\" dir=\"ltr\">55 years ago today, I was one of 13 original Freedom Riders who set out to integrate America&#39;s buses. <a href=\"https://twitter.com/hashtag/goodtrouble?src=hash\">#goodtrouble</a> <a href=\"https://t.co/5SDpHMgcMl\">pic.twitter.com/5SDpHMgcMl</a></p>&mdash; John Lewis (@repjohnlewis) <a href=\"https://twitter.com/repjohnlewis/status/727908088133652485\">May 4, 2016</a></blockquote>\n",
    "<script async src=\"//platform.twitter.com/widgets.js\" charset=\"utf-8\"></script>\n",
    "He usually uses the hashtag '#goodtrouble' when talking about his involvement in past civil rights demonstrations. It is a reference to the trouble he got in (i.e. involvement in sit-ins and being arrested multiple times) during the civil rights movement. (<a href=\"https://www.washingtonpost.com/news/morning-mix/wp/2016/06/23/good-trouble-how-john-lewis-fuses-new-and-old-tactics-to-teach-about-civil-disobedience/\">Washington Post</a>)\n",
    "\n",
    "Lewis appears to have been the first to use the phrase in reference to the Democrats' demonstration on the House floor, which caused it to become so popular in the tweets sample. He used this phrase because the Democrats believed that even though they were breaking the rules and getting in trouble (they were occupying the well of the House during a session, as well as using electronic devices on the House floor to stream the demonstration), it was 'good trouble' since their motivation was protecting American lives."
   ]
  },
  {
   "cell_type": "code",
   "execution_count": 14,
   "metadata": {
    "collapsed": false
   },
   "outputs": [
    {
     "name": "stdout",
     "output_type": "stream",
     "text": [
      "Displaying 25 of 4473 matches:\n",
      "                                     thank much women &amp; men house floor pro\n",
      "016 https://t.co/yn1xv… rt @ladygaga thank much women &amp; men house floor pro\n",
      " standing #nobill… rt @jenniferbeals thank house democrats stay strong #nobilln\n",
      "ps://t.co/zhj5x210ea rt @rweingarten thank @repjohnlewis &amp; @housedemocrats-\n",
      "nobillnobreak #letsdoit rt @ladygaga thank much women &amp; men house floor pro\n",
      "e #nobillnobreak https… rt @ladygaga thank much women &amp; men house floor pro\n",
      "@dianaltra @tammyforil @repjohnlewis thank representing american people demand \n",
      " last night good reaso… rt @ladygaga thank much women &amp; men house floor pro\n",
      "fighting reduce gun violence america thank #disarmhate https… rt @sweetatertot \n",
      "fighting reduce gun violence america thank #disarmhate https… #nobillnobreak bu\n",
      "elindaescott @ericryan… rt @ladygaga thank much women &amp; men house floor pro\n",
      "re #stopthestunt https… rt @bobbytbd thank 2 amazing @housedemocrats 4 taking s\n",
      "https://t.co/np94yktoso rt @ladygaga thank much women &amp; men house floor pro\n",
      "se gun reform support #nobillnobreak thank wish could rt @thepatriot143 dem law\n",
      "https://t.co/ggfyde3nbn rt @ladygaga thank much women &amp; men house floor pro\n",
      "https://t.co/w6bs4js27c rt @ladygaga thank much women &amp; men house floor pro\n",
      " stupid liberals truly… rt @ladygaga thank much women &amp; men house floor pro\n",
      "ds \"where soul courage silent more!\" thank @repjohnlewis #nobil… last night #no\n",
      "fighting reduce gun violence america thank #disarmhate https… rt @repjohnlewis \n",
      "fighting reduce gun violence america thank #disarmhate https… rt @2afight died \n",
      "fighting reduce gun violence america thank #disarmhate https… rt @sethgoodtime \n",
      "rownseely real leadership looks like thank courageous words @repjohnlewis #nobi\n",
      "ttps://t.co/i2hf7t2… rt @rweingarten thank @repjohnlewis &amp; @housedemocrats-\n",
      " #nobillnobreak https:… rt @ladygaga thank much women &amp; men house floor pro\n",
      " asses correctly #libe… rt @ladygaga thank much women &amp; men house floor pro\n"
     ]
    }
   ],
   "source": [
    "nltk_text.concordance('thank')"
   ]
  },
  {
   "cell_type": "markdown",
   "metadata": {},
   "source": [
    "It appears that 'thank' was a common word due to a tweet from Lady Gaga. She was thanking the Democrats for standing up for gun control, and this tweet was retweeted many times. Also, it appears there are other tweets thanking specific members of Congress and the Democrats in general."
   ]
  },
  {
   "cell_type": "code",
   "execution_count": 25,
   "metadata": {
    "collapsed": false
   },
   "outputs": [
    {
     "name": "stdout",
     "output_type": "stream",
     "text": [
      "Displaying 25 of 2411 matches:\n",
      "and ready when… rt @nprpolitics paul ryan #nobillnobreak don't think proud mom\n",
      "n democrats shout house speaker paul ryan chanting #nobillnobreak continuing s\n",
      " holiday… rt @cherokeelair hope paul ryan knows watching political career die \n",
      " https://t.co/mx… rt @hokieinsa paul ryan calling #nobillnobreak publicity stu\n",
      "llnobreak https:… rt @hokieinsa paul ryan calling #nobillnobreak publicity stu\n",
      "tes repeal obamacare weren't speaker ryan #nobillnobreak https://t.co/hcwpppg4\n",
      "dhajl4mocl rt @dloindustries speaker ryan says he's defending 2nd shuts camera\n",
      "/t.co/pqfimaqsg1 rt @normsmusic paul ryan tough love life children worth 1 ter\n",
      "tes repeal obamacare weren't speaker ryan #nobillnobreak https://t.co/hcwpppg4\n",
      "t @donnabrazile face dem sit-in paul ryan found way shut house down—which gop \n",
      "nitalowey responding protest speaker ryan adjourned house 2 weeks rather put m\n",
      "ight good reaso… rt @pari_passu paul ryan scheduled work 110 days 2016 mean ti\n",
      "//t.co/pqfimaqsg1 rt @snickstrs spkr ryan ends session w/out addressing gun re\n",
      "isers chea… rt @natureguy101 speaker ryan turned cameras couldn't see sit does\n",
      "reak https:… rt @jasonvanfosson paul ryan going pepper spray &amp; beat democr\n",
      "nobillnobreak h… rt @waynedupreeshow ryan political stunt dems raising money t\n",
      "eak https://t.co… rt @dwstweets paul ryan calling sit-in \"a publicity stunt\" s\n",
      "enate h… @usrepdavidjolly shame paul ryan turned back bill #disarmhate #nobill\n",
      "n democrats shout house speaker paul ryan chanting #nobillnobreak continuing s\n",
      "//t.co/ujw2347tgy rt @kharyp speaker ryan \"washing\" clean dishes #publicitystu\n",
      "n democrats shout house speaker paul ryan chanting #nobillnobreak continuing s\n",
      "1v4ci rt @skookerg nra henchman paul ryan &amp; gop lawmakers keep terrorist s\n",
      "irst time 17 years cost us $10b paul ryan says #nobillnobreak stunt https://… \n",
      "n democrats shout house speaker paul ryan chanting #nobillnobreak continuing s\n",
      "n democrats shout house speaker paul ryan chanting #nobillnobreak continuing s\n",
      "None\n",
      "\n",
      "\n",
      "Displaying 25 of 9695 matches:\n",
      "ved tears😢 keep fighting us rep @speakerryan won't rt @isadorehall 9 people c\n",
      "k https://t.co/hxakr… rt @llaws2 @speakerryan #doyourjob step 97 days work muc\n",
      "t.co/8bnqix4bf7 rt @repjohnlewis @speakerryan leave without acting victims &am\n",
      "lnobreak https://t.co/v8abppgwj8 @speakerryan vote gun control legislation htt\n",
      "democracy #nobillnobreak careful @speakerryan even muppets number #nobillnobre\n",
      " rt @stephenemarks #stopthestunt @speakerryan real publicity stunt sending \"th\n",
      "mon sense gun safety legislation @speakerryan sent house home early july 4 hol\n",
      "iscx7ugd3 rt @littleredblog sure @speakerryan #nobillnobreak https://t.co/4c4h\n",
      "t.co/4c4hswlqat rt @repjohnlewis @speakerryan leave without acting victims &am\n",
      "isloveislove #nobillnobreak come @speakerryan @jimmyfallon @gop @realdonaldtru\n",
      "t @guycecil retweet picture tell @speakerryan @repjohnlewis doesn't need lectu\n",
      "reak https://t… rt @repjohnlewis @speakerryan leave without acting victims &am\n",
      "nobillnobreak https://t.co… sure @speakerryan #nobillnobreak https://t.co/4c4h\n",
      "ai6b2 rt @cielito #nobillnobreak @speakerryan govt longer people corps big $ i\n",
      "mon sense gun safety legislation @speakerryan sent house home early july 4 hol\n",
      "call 202-224-3… rt @repjohnlewis @speakerryan leave without acting victims &am\n",
      "isft know what's publicity stunt @speakerryan washing clean pots soup kitchen \n",
      "g capitol last night good reaso… @speakerryan #doyourjob step 97 days work muc\n",
      "77 theres special place n hell u @speakerryan shut cameras something #terroris\n",
      "amien get back work like rest us @speakerryan #nobillnobreak #getbacktowork @b\n",
      "mon sense gun safety legislation @speakerryan sent house home early july 4 hol\n",
      "ilyedge #nobillnobreak don't let @speakerryan 8% country terrorists win https:\n",
      "obre… get back work like rest us @speakerryan #nobillnobreak #getbacktowork @b\n",
      "rt @nicholsuprising face failure @speakerryan sought silence debate instead in\n",
      ".co/khckcsolba rt @stella_cheeks @speakerryan run republican butts congress ne\n",
      "None\n"
     ]
    }
   ],
   "source": [
    "print nltk_text.concordance('Ryan')\n",
    "print '\\n'\n",
    "print nltk_text.concordance('@speakerryan')"
   ]
  },
  {
   "cell_type": "markdown",
   "metadata": {},
   "source": [
    "I was curious to see what people were saying about Speaker of the House, Paul Ryan. Although it can be hard to tell exactly what people are saying using concordance, based on the sample above, it does not appear the tweets are saying nice things about him.\n",
    "\n",
    "<p>Paul Ryan called the Democrats' demonstration \"a publicity stunt\" (<a href=\"http://www.cnn.com/2016/06/22/politics/paul-ryan-sit-in-guns-publicity-stunt/\">CNN</a>), so that is a common theme in the tweets.</p>\n",
    "\n",
    "<p>Related to that, another interesting theme of the tweets about Paul Ryan is a reference to him washing dishes at a soup kitchen. The tweets are mocking Paul Ryan for calling the Democrats' sit-in \"a publicity stunt,\" by calling his appearance at a soup kitchen a \"publicity stunt.\" There are claims that he did not actually work at the soup kitchen, and was only there to take photos (<a href=\"https://www.washingtonpost.com/news/post-politics/wp/2012/10/15/charity-president-unhappy-about-paul-ryan-soup-kitchen-photo-op/\">Washington Post</a>).</p>\n",
    "<p>'Shame' also appears in multiple tweets in reference to Paul Ryan. Other tweets are calling Paul Ryan an NRA henchman, in reference to the NRA appearing to fund political campaigns in return for votes against gun control (<a href=\"http://www.nydailynews.com/news/politics/nra-big-spending-stop-congress-enacting-gun-safety-laws-article-1.2643408\">NY Daily News</a>).</p>"
   ]
  },
  {
   "cell_type": "markdown",
   "metadata": {
    "collapsed": false
   },
   "source": [
    "Based on what we have discovered so far, it would appear that there might be a favorable attitude toward the Democrats that staged the sit-in, and an unfavorable opinion toward Paul Ryan. I want to look at the tweets with the highest retweet count to get an idea of what was most popular in the sample of tweets I  obtained. While a retweet does not necessarily mean the retweeter agreed with the content of the tweet (as politicians and public figures often remind us in their Twitter bios), it can be a useful proxy to understand, overall, how Twitter users felt about the content.\n",
    "\n",
    "\n",
    "I want to look at only the retweet count and text content of the tweets to do this. I am not interested in who exactly the tweet came from, as the original tweet's writer will be in the text of the tweet itself. I also want to drop duplicate tweet texts, as I want to know the number of time each unique tweet was retweeted."
   ]
  },
  {
   "cell_type": "code",
   "execution_count": 21,
   "metadata": {
    "collapsed": false
   },
   "outputs": [
    {
     "data": {
      "text/html": [
       "<div>\n",
       "<table border=\"1\" class=\"dataframe\">\n",
       "  <thead>\n",
       "    <tr style=\"text-align: right;\">\n",
       "      <th></th>\n",
       "      <th>retweet_count</th>\n",
       "      <th>text</th>\n",
       "    </tr>\n",
       "  </thead>\n",
       "  <tbody>\n",
       "    <tr>\n",
       "      <th>89317</th>\n",
       "      <td>13630</td>\n",
       "      <td>RT @WhiteHouse: \"If we’re going to raise our kids in a safer, more loving world, we need to speak up for it.\" —@POTUS #NoBillNoBreak https:…</td>\n",
       "    </tr>\n",
       "    <tr>\n",
       "      <th>84441</th>\n",
       "      <td>8648</td>\n",
       "      <td>RT @SenWarren: Nowhere I'd rather spend my bday than the House floor w/ @repjohnlewis for gun control. #NoBillNoBreak #goodtrouble https://…</td>\n",
       "    </tr>\n",
       "    <tr>\n",
       "      <th>89279</th>\n",
       "      <td>8547</td>\n",
       "      <td>RT @repjohnlewis: .@SpeakerRyan, we will not leave without acting for the victims &amp;amp; families of reckless gun violence. #NoBillNoBreak https…</td>\n",
       "    </tr>\n",
       "    <tr>\n",
       "      <th>89814</th>\n",
       "      <td>7017</td>\n",
       "      <td>RT @BarackObama: We need more than moments of silence. We need action. And that's what's going on in the House now: https://t.co/L9m0dSfipA…</td>\n",
       "    </tr>\n",
       "    <tr>\n",
       "      <th>89619</th>\n",
       "      <td>6423</td>\n",
       "      <td>RT @KimKardashian: After Orlando, Congress hasn't done anything and now they're going on vacation. I say #NoBillNoBreak https://t.co/WNdeZI…</td>\n",
       "    </tr>\n",
       "    <tr>\n",
       "      <th>82254</th>\n",
       "      <td>6405</td>\n",
       "      <td>RT @SenWarren: Hero @repjohnlewis is leading a sit-in on gun violence &amp;amp; @SpeakerRyan shut off the camera so you can’t watch. Shameful. #NoB…</td>\n",
       "    </tr>\n",
       "    <tr>\n",
       "      <th>85631</th>\n",
       "      <td>6158</td>\n",
       "      <td>RT @tparsi: So I'm meeting with @keithellison. His scheduler walks in and hands him this note. Meeting ends :) #NoBillNoBreak https://t.co/…</td>\n",
       "    </tr>\n",
       "    <tr>\n",
       "      <th>89819</th>\n",
       "      <td>5582</td>\n",
       "      <td>RT @ladygaga: Thank you so much to the women &amp;amp; men on the house floor who are protesting to save American lives ☕️ #NoBillNoBreak https://t…</td>\n",
       "    </tr>\n",
       "    <tr>\n",
       "      <th>88907</th>\n",
       "      <td>5413</td>\n",
       "      <td>RT @Phil_Lewis_: Straight Outta Congress\\n\\n#NoBillNoBreak https://t.co/cyZz23Rd4e</td>\n",
       "    </tr>\n",
       "    <tr>\n",
       "      <th>89348</th>\n",
       "      <td>5335</td>\n",
       "      <td>RT @repjohnlewis: We cannot give up or give in or give out. We must keep our eyes on the prize. #goodtrouble #NoBillNoBreak https://t.co/mx…</td>\n",
       "    </tr>\n",
       "    <tr>\n",
       "      <th>74726</th>\n",
       "      <td>5263</td>\n",
       "      <td>RT @SenWarren: The @HouseGOP may run from a vote for common-sense gun measures, but they can’t hide. #NoBillNoBreak https://t.co/TMnjPmJClS</td>\n",
       "    </tr>\n",
       "    <tr>\n",
       "      <th>89135</th>\n",
       "      <td>5110</td>\n",
       "      <td>RT @SenWarren: After a whole day of #NoBillNoBreak, @HouseGOP is instead moving on a vote to make it easier for retirement advisers to chea…</td>\n",
       "    </tr>\n",
       "    <tr>\n",
       "      <th>88231</th>\n",
       "      <td>4598</td>\n",
       "      <td>RT @SenWarren: .@RepKClark has done a terrific job putting this #NoBillNoBreak sit-in together. Proud to stand (&amp;amp; sit) by her side. https:/…</td>\n",
       "    </tr>\n",
       "    <tr>\n",
       "      <th>87261</th>\n",
       "      <td>4512</td>\n",
       "      <td>RT @SenWarren: Massachusetts knows: America — and #NoBillNoBreak — runs on @DunkinDonuts. #birthdaydonuts #holdthefloor https://t.co/XG1wzU…</td>\n",
       "    </tr>\n",
       "    <tr>\n",
       "      <th>89014</th>\n",
       "      <td>4230</td>\n",
       "      <td>RT @ladygaga: #NoBillNoBreak Just days after the biggest shooting in our country we can't bring a bill to vote? This is not democracy. This…</td>\n",
       "    </tr>\n",
       "    <tr>\n",
       "      <th>87838</th>\n",
       "      <td>3954</td>\n",
       "      <td>RT @repdonnaedwards: Time to occupy the House to demand action. #NoBillNoBreak #DisarmHate https://t.co/C7BZpzNvxL</td>\n",
       "    </tr>\n",
       "    <tr>\n",
       "      <th>52830</th>\n",
       "      <td>3948</td>\n",
       "      <td>RT @SenSanders: Proud to stand with my colleagues to demand action. #NoBillNoBreak https://t.co/aARh2tppCk</td>\n",
       "    </tr>\n",
       "    <tr>\n",
       "      <th>86486</th>\n",
       "      <td>3853</td>\n",
       "      <td>RT @Everytown: .@HouseGOP shut the cameras off. \\n\\nBut they can’t shut down Twitter. #NoBillNoBreak https://t.co/MUXeuOVaxl</td>\n",
       "    </tr>\n",
       "    <tr>\n",
       "      <th>33788</th>\n",
       "      <td>3837</td>\n",
       "      <td>RT @Newsweek: VIDEO: The @HouseDemocrats staged a live sit-in to address gun control measures and gun violence https://t.co/SN1KRBnNbG #NoB…</td>\n",
       "    </tr>\n",
       "    <tr>\n",
       "      <th>85437</th>\n",
       "      <td>3493</td>\n",
       "      <td>RT @RepDuckworth: This is what the #gunviolence #sitin looks like frm where I'm sitting #AsLongAsItTakes #NoBillNoBreak #NoMoreSilence http…</td>\n",
       "    </tr>\n",
       "    <tr>\n",
       "      <th>24050</th>\n",
       "      <td>3447</td>\n",
       "      <td>RT @periscopetv: With official broadcasts suspended in the House, we’ve created a channel to follow #NoBillNoBreak on #Periscope live https…</td>\n",
       "    </tr>\n",
       "    <tr>\n",
       "      <th>82347</th>\n",
       "      <td>3416</td>\n",
       "      <td>RT @SenWarren: Heading to the House floor to join the @HouseDemocrats’ sit-in. #NoBillNoBreak #goodtrouble #holdthefloor https://t.co/0EBVR…</td>\n",
       "    </tr>\n",
       "    <tr>\n",
       "      <th>79036</th>\n",
       "      <td>3275</td>\n",
       "      <td>RT @ChrisMurphyCT: I'm in the House chamber showing solidarity w #NoBillNoBreak. Truly amazing moment. Truly amazing last week. https://t.c…</td>\n",
       "    </tr>\n",
       "    <tr>\n",
       "      <th>87235</th>\n",
       "      <td>3245</td>\n",
       "      <td>RT @MichaelSkolnik: 9 people in church \\n12 people in movie theater\\n14 people at office party\\n20 elementary school kids\\n49 people in gay nig…</td>\n",
       "    </tr>\n",
       "    <tr>\n",
       "      <th>87567</th>\n",
       "      <td>3199</td>\n",
       "      <td>RT @AriBerman: This is what @repjohnlewis endured to vote. He's not afraid of GOP turning off cameras or lights #NoBillNoBreak https://t.co…</td>\n",
       "    </tr>\n",
       "    <tr>\n",
       "      <th>88094</th>\n",
       "      <td>3194</td>\n",
       "      <td>RT @SenSanders: Change only happens when people come together to say the status quo is unacceptable. We stand with you @HouseDemocrats. #No…</td>\n",
       "    </tr>\n",
       "    <tr>\n",
       "      <th>80398</th>\n",
       "      <td>3105</td>\n",
       "      <td>RT @GabbyGiffords: Speaking is difficult for me. But I haven't been silenced. And neither should the American people. #NoBillNoBreak https:…</td>\n",
       "    </tr>\n",
       "    <tr>\n",
       "      <th>50324</th>\n",
       "      <td>3093</td>\n",
       "      <td>RT @repjohnlewis: We got in trouble. We got in the way. Good trouble. Necessary Trouble. By sitting-in, we were really standing up. #NoBill…</td>\n",
       "    </tr>\n",
       "    <tr>\n",
       "      <th>51483</th>\n",
       "      <td>3093</td>\n",
       "      <td>We got in trouble. We got in the way. Good trouble. Necessary Trouble. By sitting-in, we were really standing up. #NoBillNoBreak</td>\n",
       "    </tr>\n",
       "    <tr>\n",
       "      <th>89085</th>\n",
       "      <td>2880</td>\n",
       "      <td>RT @birbigs: Guys--this isn't about democrats and republicans. It's an issue that 90% of AMERICANS support. \\n\\nOnly opponent: @NRA. \\n\\n#NoBil…</td>\n",
       "    </tr>\n",
       "  </tbody>\n",
       "</table>\n",
       "</div>"
      ],
      "text/plain": [
       "       retweet_count  \\\n",
       "89317          13630   \n",
       "84441           8648   \n",
       "89279           8547   \n",
       "89814           7017   \n",
       "89619           6423   \n",
       "82254           6405   \n",
       "85631           6158   \n",
       "89819           5582   \n",
       "88907           5413   \n",
       "89348           5335   \n",
       "74726           5263   \n",
       "89135           5110   \n",
       "88231           4598   \n",
       "87261           4512   \n",
       "89014           4230   \n",
       "87838           3954   \n",
       "52830           3948   \n",
       "86486           3853   \n",
       "33788           3837   \n",
       "85437           3493   \n",
       "24050           3447   \n",
       "82347           3416   \n",
       "79036           3275   \n",
       "87235           3245   \n",
       "87567           3199   \n",
       "88094           3194   \n",
       "80398           3105   \n",
       "50324           3093   \n",
       "51483           3093   \n",
       "89085           2880   \n",
       "\n",
       "                                                                                                                                                   text  \n",
       "89317      RT @WhiteHouse: \"If we’re going to raise our kids in a safer, more loving world, we need to speak up for it.\" —@POTUS #NoBillNoBreak https:…  \n",
       "84441      RT @SenWarren: Nowhere I'd rather spend my bday than the House floor w/ @repjohnlewis for gun control. #NoBillNoBreak #goodtrouble https://…  \n",
       "89279  RT @repjohnlewis: .@SpeakerRyan, we will not leave without acting for the victims &amp; families of reckless gun violence. #NoBillNoBreak https…  \n",
       "89814      RT @BarackObama: We need more than moments of silence. We need action. And that's what's going on in the House now: https://t.co/L9m0dSfipA…  \n",
       "89619      RT @KimKardashian: After Orlando, Congress hasn't done anything and now they're going on vacation. I say #NoBillNoBreak https://t.co/WNdeZI…  \n",
       "82254  RT @SenWarren: Hero @repjohnlewis is leading a sit-in on gun violence &amp; @SpeakerRyan shut off the camera so you can’t watch. Shameful. #NoB…  \n",
       "85631      RT @tparsi: So I'm meeting with @keithellison. His scheduler walks in and hands him this note. Meeting ends :) #NoBillNoBreak https://t.co/…  \n",
       "89819  RT @ladygaga: Thank you so much to the women &amp; men on the house floor who are protesting to save American lives ☕️ #NoBillNoBreak https://t…  \n",
       "88907                                                                RT @Phil_Lewis_: Straight Outta Congress\\n\\n#NoBillNoBreak https://t.co/cyZz23Rd4e  \n",
       "89348      RT @repjohnlewis: We cannot give up or give in or give out. We must keep our eyes on the prize. #goodtrouble #NoBillNoBreak https://t.co/mx…  \n",
       "74726       RT @SenWarren: The @HouseGOP may run from a vote for common-sense gun measures, but they can’t hide. #NoBillNoBreak https://t.co/TMnjPmJClS  \n",
       "89135      RT @SenWarren: After a whole day of #NoBillNoBreak, @HouseGOP is instead moving on a vote to make it easier for retirement advisers to chea…  \n",
       "88231  RT @SenWarren: .@RepKClark has done a terrific job putting this #NoBillNoBreak sit-in together. Proud to stand (&amp; sit) by her side. https:/…  \n",
       "87261      RT @SenWarren: Massachusetts knows: America — and #NoBillNoBreak — runs on @DunkinDonuts. #birthdaydonuts #holdthefloor https://t.co/XG1wzU…  \n",
       "89014      RT @ladygaga: #NoBillNoBreak Just days after the biggest shooting in our country we can't bring a bill to vote? This is not democracy. This…  \n",
       "87838                                RT @repdonnaedwards: Time to occupy the House to demand action. #NoBillNoBreak #DisarmHate https://t.co/C7BZpzNvxL  \n",
       "52830                                        RT @SenSanders: Proud to stand with my colleagues to demand action. #NoBillNoBreak https://t.co/aARh2tppCk  \n",
       "86486                      RT @Everytown: .@HouseGOP shut the cameras off. \\n\\nBut they can’t shut down Twitter. #NoBillNoBreak https://t.co/MUXeuOVaxl  \n",
       "33788      RT @Newsweek: VIDEO: The @HouseDemocrats staged a live sit-in to address gun control measures and gun violence https://t.co/SN1KRBnNbG #NoB…  \n",
       "85437      RT @RepDuckworth: This is what the #gunviolence #sitin looks like frm where I'm sitting #AsLongAsItTakes #NoBillNoBreak #NoMoreSilence http…  \n",
       "24050      RT @periscopetv: With official broadcasts suspended in the House, we’ve created a channel to follow #NoBillNoBreak on #Periscope live https…  \n",
       "82347      RT @SenWarren: Heading to the House floor to join the @HouseDemocrats’ sit-in. #NoBillNoBreak #goodtrouble #holdthefloor https://t.co/0EBVR…  \n",
       "79036      RT @ChrisMurphyCT: I'm in the House chamber showing solidarity w #NoBillNoBreak. Truly amazing moment. Truly amazing last week. https://t.c…  \n",
       "87235  RT @MichaelSkolnik: 9 people in church \\n12 people in movie theater\\n14 people at office party\\n20 elementary school kids\\n49 people in gay nig…  \n",
       "87567      RT @AriBerman: This is what @repjohnlewis endured to vote. He's not afraid of GOP turning off cameras or lights #NoBillNoBreak https://t.co…  \n",
       "88094      RT @SenSanders: Change only happens when people come together to say the status quo is unacceptable. We stand with you @HouseDemocrats. #No…  \n",
       "80398      RT @GabbyGiffords: Speaking is difficult for me. But I haven't been silenced. And neither should the American people. #NoBillNoBreak https:…  \n",
       "50324      RT @repjohnlewis: We got in trouble. We got in the way. Good trouble. Necessary Trouble. By sitting-in, we were really standing up. #NoBill…  \n",
       "51483                  We got in trouble. We got in the way. Good trouble. Necessary Trouble. By sitting-in, we were really standing up. #NoBillNoBreak  \n",
       "89085  RT @birbigs: Guys--this isn't about democrats and republicans. It's an issue that 90% of AMERICANS support. \\n\\nOnly opponent: @NRA. \\n\\n#NoBil…  "
      ]
     },
     "execution_count": 21,
     "metadata": {},
     "output_type": "execute_result"
    }
   ],
   "source": [
    "df.sort(['retweet_count'], ascending=False)[['retweet_count', 'text']].drop_duplicates(subset='text',\n",
    "                                                                                       keep='first').head(30)"
   ]
  },
  {
   "cell_type": "markdown",
   "metadata": {
    "collapsed": false
   },
   "source": [
    "Almost all of the most retweeted tweets came from democrats that were involved in the sit-in.\n",
    "<p>The most retweeted tweet was from the White House, which was in support of the #NoBillNoBreak demonstration.</p>\n",
    "<p>Interestingly, tweets from two pop culture figures, Kim Kardashian and Lady Gaga, also were retweeted many times. These tweets were in support of the Democrats' sit-in. This is likely due to the sheer number of followers these two have on Twitter, but it does show that a number of their followers likely support the Democrats on this issue.</p>\n",
    "<p>User @Phil\\_Lewis\\_ wrote a more humorous tweet that was also popular. It shows a picture of Democrats on the House floor, with the caption \"Straight Outta Congress,\" a reference to the movie \"Straight Outta Compton.\"</p>\n",
    "<p>One other popular tweet came from @periscopetv. When the House cameras were turned off, Democrats on the House floor began streaming the sit-in on Periscope, so that the nation could hear their speeches and see the demonstration. Periscope picked up on it, and let followers know how they could see the live streams.</p>"
   ]
  },
  {
   "cell_type": "markdown",
   "metadata": {
    "collapsed": false
   },
   "source": [
    "<h2>Conclusion</h2>\n",
    "\n",
    "After this simple analysis of the tweets about #NoBillNoBreak, it appears there was much support for House Democrats, and some contempt for Speaker Paul Ryan. I will not make a formal conclusion, since the goal of this analysis was to get a basic idea of what was being said about the event, and a much deeper analysis would be required. What is clear is that the debate over gun control is likely to continue for quite some time, and seems to be getting much more heated as time goes on and the political gridlock strengthens."
   ]
  }
 ],
 "metadata": {
  "kernelspec": {
   "display_name": "Python 2",
   "language": "python",
   "name": "python2"
  },
  "language_info": {
   "codemirror_mode": {
    "name": "ipython",
    "version": 2
   },
   "file_extension": ".py",
   "mimetype": "text/x-python",
   "name": "python",
   "nbconvert_exporter": "python",
   "pygments_lexer": "ipython2",
   "version": "2.7.9"
  }
 },
 "nbformat": 4,
 "nbformat_minor": 0
}
